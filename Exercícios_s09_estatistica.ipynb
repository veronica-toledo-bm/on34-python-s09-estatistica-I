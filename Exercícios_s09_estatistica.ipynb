{
  "nbformat": 4,
  "nbformat_minor": 0,
  "metadata": {
    "colab": {
      "provenance": [],
      "authorship_tag": "ABX9TyMfedXvyponn9UBI7JVu4wo",
      "include_colab_link": true
    },
    "kernelspec": {
      "name": "python3",
      "display_name": "Python 3"
    },
    "language_info": {
      "name": "python"
    }
  },
  "cells": [
    {
      "cell_type": "markdown",
      "metadata": {
        "id": "view-in-github",
        "colab_type": "text"
      },
      "source": [
        "<a href=\"https://colab.research.google.com/github/veronica-toledo-bm/on34-python-s09-estatistica-I/blob/Veronica/Exerc%C3%ADcios_s09_estatistica.ipynb\" target=\"_parent\"><img src=\"https://colab.research.google.com/assets/colab-badge.svg\" alt=\"Open In Colab\"/></a>"
      ]
    },
    {
      "cell_type": "code",
      "execution_count": null,
      "metadata": {
        "id": "_dLJw3bCf4jY"
      },
      "outputs": [],
      "source": [
        "#Exercicio 1: Identificação de Tipos de Dados\n",
        "\"\"\"\n",
        "Número de irmãos = quantitativo discreto\n",
        "Notas de um exame (A, B, C, D, F) = quantitativo ordinal\n",
        "Altura de uma pessoa = quantitativo continuo\n",
        "Cores favoritas = qualitativo nominal\n",
        "Salário anual = quantitativo continuo\n",
        "\"\"\""
      ]
    },
    {
      "cell_type": "code",
      "source": [
        "#Exercicio 2: Classificação de Variáveis\n",
        "\"\"\"\n",
        "Cor dos olhos (azul, castanho, verde) = qualitativa nominal\n",
        "Nível de satisfação em uma escala de 1 a 5 = qualitativa ordinal\n",
        "Número de carros em uma garagem = quantitativa discreta\n",
        "Temperatura medida em graus Celsius = quantitativa continua\n",
        "Classificação de filmes (ótimo, bom, regular, ruim) = qualitativa ordinal\n",
        "Peso de um saco de arroz = quantitativa continua\n",
        "\"\"\""
      ],
      "metadata": {
        "id": "zp9N5zJPayDA"
      },
      "execution_count": null,
      "outputs": []
    },
    {
      "cell_type": "code",
      "source": [
        "#Exercicio 3: Calculo da média aritimética do conjunto [10,20,30,40,50]\n",
        "\n",
        "conjunto = [10,20,30,40,50]\n",
        "soma = conjunto[0] + conjunto[1] + conjunto[2] + conjunto[3] + conjunto[4]\n",
        "media = soma / 5\n",
        "\n",
        "print (\"Média:\" , media)"
      ],
      "metadata": {
        "colab": {
          "base_uri": "https://localhost:8080/"
        },
        "id": "1QtZLtXri5Xn",
        "outputId": "9ab15c8b-d0df-46dd-ecac-ca715b91fa4f"
      },
      "execution_count": null,
      "outputs": [
        {
          "output_type": "stream",
          "name": "stdout",
          "text": [
            "Média: 30.0\n"
          ]
        }
      ]
    },
    {
      "cell_type": "code",
      "source": [
        "#Exercicio 4: Calculo da mediana do conjunto [1,3,4,2,5]\n",
        "\n",
        "conjunto = [1,3,4,2,5]\n",
        "conjunto.sort()\n",
        "tamanho = len(conjunto)\n",
        "mediana = conjunto [tamanho // 2]\n",
        "\n",
        "print (\"Mediana:\" , mediana)"
      ],
      "metadata": {
        "colab": {
          "base_uri": "https://localhost:8080/"
        },
        "id": "R1eqNSP7kXYj",
        "outputId": "e867e102-3990-44c8-fe8d-8f9213eff9b3"
      },
      "execution_count": null,
      "outputs": [
        {
          "output_type": "stream",
          "name": "stdout",
          "text": [
            "5\n",
            "Mediana: 3\n"
          ]
        }
      ]
    },
    {
      "cell_type": "code",
      "source": [
        "#Exercicio 5: Calculo da Moda do conjunto [1,2,2,3,4,4,4,5,5]\n",
        "\n",
        "conjunto = [1,2,2,3,4,4,4,5,5]\n",
        "frequencia = {}\n",
        "for num in conjunto:\n",
        "    if num in frequencia:\n",
        "        frequencia[num] += 1\n",
        "    else:\n",
        "        frequencia[num] = 1\n",
        "moda = None\n",
        "max_frequencia = 0\n",
        "for num, freq in frequencia.items():\n",
        "    if freq > max_frequencia:\n",
        "        moda = num\n",
        "        max_frequencia = freq\n",
        "print (\"Moda é: \", moda)\n"
      ],
      "metadata": {
        "id": "WovTyQ-smoEs",
        "colab": {
          "base_uri": "https://localhost:8080/"
        },
        "outputId": "cab0c190-c85b-4b5b-c323-f05ed41e1391"
      },
      "execution_count": null,
      "outputs": [
        {
          "output_type": "stream",
          "name": "stdout",
          "text": [
            "Moda é:  4\n"
          ]
        }
      ]
    },
    {
      "cell_type": "code",
      "source": [
        "#Exercicio 6:Análise de Notas de Alunos\n",
        "\"\"\"\n",
        "Uma escola precisa analisar o desempenho dos alunos em uma prova. As\n",
        "notas dos alunos são armazenadas em uma lista. Escreva um programa em\n",
        "Python que:\n",
        "1. Calcule a média aritmética das notas.\n",
        "2. Encontre a mediana das notas.\n",
        "3. Determine a moda das notas.\n",
        "\"\"\"\n",
        "\n",
        "matematica = float(input(\"Digite a nota de matematica: \"))\n",
        "portugues = float(input(\"Digite a nota de portugues:  \"))\n",
        "ciencias = float(input(\"Digite a nota de ciencias: \"))\n",
        "historia = float(input(\"Digite a nota de historia: \"))\n",
        "geografia = float(input(\"Digite a nota de geografia: \"))\n",
        "filosofia = float(input(\"Digite a nota de filosofia: \"))\n",
        "\n",
        "notas = [matematica, portugues, ciencias, historia, geografia, filosofia]\n",
        "\n",
        "media = sum(notas) / len(notas)\n",
        "print (\"A média é:\" , media)\n",
        "\n",
        "\n",
        "notas.sort()\n",
        "tamanho = len(notas)\n",
        "meio = tamanho // 2\n",
        "if tamanho % 2 == 0: #o tamanho é par\n",
        "    mediana = (notas[meio - 1] + notas[meio]) / 2\n",
        "else: #o tamanho é impar\n",
        "    mediana = notas[meio]\n",
        "print(f\"A mediana é: {mediana}\")\n",
        "\n",
        "\n",
        "frequencia = {}\n",
        "for numeros in notas:\n",
        "    if numeros in frequencia:\n",
        "        frequencia[numeros] += 1\n",
        "    else:\n",
        "        frequencia[numeros] = 1\n",
        "moda = None\n",
        "max_frequencia = 0\n",
        "for numeros, freq in frequencia.items():\n",
        "    if freq > max_frequencia:\n",
        "        moda = numeros\n",
        "        max_frequencia = freq\n",
        "    else:\n",
        "        moda = \"Nenhuma nota\"\n",
        "print (\"Moda é: \", moda)"
      ],
      "metadata": {
        "colab": {
          "base_uri": "https://localhost:8080/"
        },
        "id": "p1lVJ-I2Z6X0",
        "outputId": "1f0674f9-7f30-40bc-949c-badb6cb3a3ce"
      },
      "execution_count": null,
      "outputs": [
        {
          "output_type": "stream",
          "name": "stdout",
          "text": [
            "Digite a nota de matematica: 5\n",
            "Digite a nota de portugues:  7\n",
            "Digite a nota de ciencias: 6\n",
            "Digite a nota de historia: 8\n",
            "Digite a nota de geografia: 9\n",
            "Digite a nota de filosofia: 10\n",
            "A média é: 7.5\n",
            "A mediana é: 7.5\n",
            "Moda é:  5.0\n"
          ]
        }
      ]
    },
    {
      "cell_type": "code",
      "source": [
        "#Exercício 7: Análise de Vendas de Produtos\n",
        "\"\"\"\n",
        "Uma loja registrou o número de unidades vendidas de diferentes produtos ao longo de uma semana.\n",
        "Cada produto tem um código único e o número de unidades vendidas é registrado em uma lista.\n",
        "\n",
        "1. Calcule a média aritmética das unidades vendidas.\n",
        "2. Encontre a mediana das unidades vendidas.\n",
        "3. Identifique o produto mais vendido (moda).\n",
        "\"\"\"\n",
        "produtos = {\n",
        "    \"banana\" : 40,\n",
        "    \"laraja\" : 20,\n",
        "    \"uva\" : 10,\n",
        "    \"maça\" : 25,\n",
        "}\n",
        "print (produtos)\n",
        "\n",
        "#para achar a média\n",
        "media = sum(produtos.values()) / len(produtos)\n",
        "print (\"A média é:\" , media)\n",
        "\n",
        "#para achar a mediana\n",
        "frutas = list(produtos.values())\n",
        "frutas.sort()\n",
        "tamanho = len(frutas)\n",
        "meio = tamanho // 2\n",
        "if tamanho % 2 == 0:\n",
        "    mediana = (frutas[meio - 1] + frutas[meio]) / 2\n",
        "    print(f\"A mediana é: {mediana}\")\n",
        "\n",
        "else:\n",
        "    mediana = frutas[meio]\n",
        "    print(f\"A mediana é: {mediana}\")\n",
        "\n",
        "#para achar a moda\n",
        "max_frequencia = max(produtos.values())\n",
        "\n",
        "if max_frequencia == 1:\n",
        "    moda = \"Nenhuma moda\"\n",
        "else:\n",
        "    moda = [num for num, freq in produtos.items() if freq == max_frequencia]\n",
        "print(\"A moda é:\" , moda)"
      ],
      "metadata": {
        "colab": {
          "base_uri": "https://localhost:8080/"
        },
        "id": "sE5XsRSakOze",
        "outputId": "0d9e5765-38ab-4c69-d7ab-7e2810dfecd0"
      },
      "execution_count": null,
      "outputs": [
        {
          "output_type": "stream",
          "name": "stdout",
          "text": [
            "{'banana': 40, 'laraja': 20, 'uva': 10, 'maça': 25}\n",
            "A média é: 23.75\n",
            "A mediana é: 22.5\n",
            "A moda é: ['banana']\n"
          ]
        }
      ]
    },
    {
      "cell_type": "code",
      "source": [
        "#Exercício 8: Análise de Temperaturas\n",
        "\"\"\"\n",
        "Você foi contratado para analisar dados meteorológicos.\n",
        "Você tem uma lista com as temperaturas registradas em uma cidade durante um mês.\n",
        "1. Calcule a média aritmética das temperaturas.\n",
        "2. Encontre a mediana das temperaturas.\n",
        "3. Determine a moda das temperaturas (se houver).\n",
        "\"\"\"\n",
        "\n",
        "temperatura = [29, 13, 29, 17, 31, 17, 31, 18, 25, 25, 16, 30]\n",
        "\n",
        "media = sum(temperatura) / len(temperatura)\n",
        "print (\"A média aritimética é:\" , media)\n",
        "\n",
        "temperatura.sort()\n",
        "clima_semana = len(temperatura)\n",
        "mediana = temperatura [clima_semana // 2]\n",
        "print(\"Mediana da temperatura é:\", mediana)\n",
        "\n",
        "frequencia = {}\n",
        "for graus in temperatura:\n",
        "    if graus in frequencia:\n",
        "        frequencia[graus] += 1\n",
        "    else:\n",
        "        frequencia[graus] = 1\n",
        "\n",
        "moda = None\n",
        "max_frequencia = 0\n",
        "for graus, freq in frequencia.items():\n",
        "    if freq > max_frequencia:\n",
        "        moda = graus\n",
        "        max_frequencia = freq\n",
        "    else:\n",
        "        moda = \"Nenhuma moda\"\n",
        "print(moda)"
      ],
      "metadata": {
        "id": "AWUXpBSQkdag",
        "colab": {
          "base_uri": "https://localhost:8080/"
        },
        "outputId": "1a3f4865-e83d-45e7-daf0-4942c901c3a5"
      },
      "execution_count": null,
      "outputs": [
        {
          "output_type": "stream",
          "name": "stdout",
          "text": [
            "A média aritimética é: 23.416666666666668\n",
            "Mediana da temperatura é: 25\n",
            "Nenhuma moda\n"
          ]
        }
      ]
    },
    {
      "cell_type": "code",
      "source": [
        "#Exercício 9: Você tem a seguinte amostra de dados: \\([12, 15, 20, 22, 30]\\).\n",
        "import math\n",
        "conjunto = [12, 15, 20, 22, 30]\n",
        "n = len(conjunto)\n",
        "media = sum(conjunto) / n\n",
        "soma_quadrados = 0\n",
        "for numeros in conjunto:\n",
        "    soma_quadrados = soma_quadrados + ((numeros - media) ** 2)\n",
        "\n",
        "variancia = soma_quadrados / (len(conjunto) - 1)\n",
        "print (\"A variância é:\" , variancia)\n",
        "\n",
        "desvio_padrao = math.sqrt(variancia)\n",
        "print (f\"O desvio padrão é: {desvio_padrao}\")\n"
      ],
      "metadata": {
        "colab": {
          "base_uri": "https://localhost:8080/"
        },
        "id": "vwOFWGg-ko9w",
        "outputId": "511f7563-81a4-4f70-ba43-ed40682145a2"
      },
      "execution_count": null,
      "outputs": [
        {
          "output_type": "stream",
          "name": "stdout",
          "text": [
            "A variância é: 48.2\n",
            "O desvio padrão é: 6.942621983083913\n"
          ]
        }
      ]
    },
    {
      "cell_type": "code",
      "source": [
        "#Exercício 10: Dada a amostra de dados \\([5, 7, 9, 10, 15, 18]\\), calcule a\n",
        "import math\n",
        "conjunto = [5, 7, 9, 10, 15, 18]\n",
        "n = len(conjunto)\n",
        "media = sum(conjunto) / n\n",
        "soma_dos_quadrados = sum((x - media) ** 2 for x in conjunto)\n",
        "\n",
        "variancia_amostral = soma_dos_quadrados / (n - 1)\n",
        "print (\"A variância é:\" , variancia)\n",
        "\n",
        "desvio_padrao = math.sqrt(variancia_amostral)\n",
        "print(f\"Desvio padrão amostral: {desvio_padrao}\")\n"
      ],
      "metadata": {
        "colab": {
          "base_uri": "https://localhost:8080/",
          "height": 70
        },
        "id": "GfZwtdh_Y7Fz",
        "outputId": "7dbceecc-84aa-4757-b0c3-062ec68d6eca"
      },
      "execution_count": null,
      "outputs": [
        {
          "output_type": "stream",
          "name": "stdout",
          "text": [
            "A variância é: 48.2\n",
            "Desvio padrão amostral: 4.926120853842978\n"
          ]
        },
        {
          "output_type": "execute_result",
          "data": {
            "text/plain": [
              "'a variância amostral e o desvio padrão amostral.'"
            ],
            "application/vnd.google.colaboratory.intrinsic+json": {
              "type": "string"
            }
          },
          "metadata": {},
          "execution_count": 9
        }
      ]
    },
    {
      "cell_type": "code",
      "source": [
        "#Exercício 11: Considere a amostra \\([23, 29, 31, 35, 40, 42, 50]\\). Determine a\n",
        "\"variância amostral e o desvio padrão amostral.\"\n",
        "import math\n",
        "conjunto = [23, 29, 31, 35, 40, 42, 50]\n",
        "n = len(conjunto)\n",
        "media = sum(conjunto) // n\n",
        "print(\"Média:\", media)\n",
        "\n",
        "soma_dos_quadrados = sum((x - media) ** 2 for x in conjunto)\n",
        "variancia_amostral = soma_dos_quadrados / (n - 1)\n",
        "print (\"A variância é:\" , variancia)\n",
        "\n",
        "desvio_padrao = math.sqrt(variancia_amostral)\n",
        "print(\"Desvio Padrão:\", desvio_padrao)"
      ],
      "metadata": {
        "colab": {
          "base_uri": "https://localhost:8080/"
        },
        "id": "7vdPhWNTZ8JK",
        "outputId": "76c9155e-d766-48d8-cd07-f2ed852c26de"
      },
      "execution_count": null,
      "outputs": [
        {
          "output_type": "stream",
          "name": "stdout",
          "text": [
            "Média: 35\n",
            "A variância é: 48.2\n",
            "Desvio Padrão: 9.082951062292475\n"
          ]
        }
      ]
    },
    {
      "cell_type": "code",
      "source": [
        "#Exercício 12: Para a amostra \\([3, 6, 8, 10, 12, 14, 16, 18]\\).\n",
        "import math\n",
        "amostra = [3, 6, 8, 10, 12, 14, 16, 18]\n",
        "media = sum(amostra) // len(amostra)\n",
        "print(\"Média:\", media)\n",
        "\n",
        "soma_quadrados = sum((x - media) ** 2 for x in amostra)\n",
        "variancia_amostral = soma_quadrados / (len(amostra) - 1)\n",
        "print(\"Variância amostral:\", variancia_amostral)\n",
        "\n",
        "desvio_padrao = math.sqrt(variancia_amostral)\n",
        "print(\"Desvio Padrão:\", desvio_padrao)"
      ],
      "metadata": {
        "colab": {
          "base_uri": "https://localhost:8080/"
        },
        "id": "_GR1m04_Z78i",
        "outputId": "42c3ffd2-bd93-452f-fb57-6c76f7dbb0ca"
      },
      "execution_count": null,
      "outputs": [
        {
          "output_type": "stream",
          "name": "stdout",
          "text": [
            "Média: 10\n",
            "Variância amostral: 27.0\n",
            "Desvio Padrão: 5.196152422706632\n"
          ]
        }
      ]
    },
    {
      "cell_type": "code",
      "source": [
        "#Exercício 13: Dada a amostra \\([50, 52, 55, 57, 60, 62, 65, 68, 70, 72]\\).\n",
        "import math\n",
        "amostra = [50, 52, 55, 57, 60, 62, 65, 68, 70, 72]\n",
        "media = sum(amostra) // len(amostra)\n",
        "print(\"Média:\", media)\n",
        "\n",
        "soma_quadrados = sum((x - media) ** 2 for x in amostra)\n",
        "variancia_amostral = soma_quadrados / (len(amostra) - 1)\n",
        "print(\"Variância amostral:\", variancia_amostral)\n",
        "\n",
        "desvio_padrao = math.sqrt(variancia_amostral)\n",
        "print(\"Desvio Padrão:\", desvio_padrao)"
      ],
      "metadata": {
        "colab": {
          "base_uri": "https://localhost:8080/"
        },
        "id": "KpyhrKE1Z7qz",
        "outputId": "48e19c63-6316-419d-c00b-fa44264ab012"
      },
      "execution_count": null,
      "outputs": [
        {
          "output_type": "stream",
          "name": "stdout",
          "text": [
            "Média: 61\n",
            "Variância amostral: 58.111111111111114\n",
            "Desvio Padrão: 7.623064417352848\n"
          ]
        }
      ]
    },
    {
      "cell_type": "code",
      "source": [
        "#Exercício 14: Suponha que em uma urna há 3 bolas vermelhas e 2 bolas azuis.\n",
        "\"Qual é a probabilidade de retirar uma bola vermelha ou uma bola azul?\"\n",
        "espaço_amostral = 5\n",
        "evento_A = 3\n",
        "evento_B = 2\n",
        "\n",
        "probabilidade_vermelha = evento_A / espaço_amostral\n",
        "print(\"A probabilidade de retirar uma bola vermelha é:\", probabilidade_vermelha)\n",
        "\n",
        "probabilidade_azul = evento_B / espaço_amostral\n",
        "print(\"A probabilidade de retirar uma bola azul é:\", probabilidade_azul)"
      ],
      "metadata": {
        "id": "zynA7JkflEN2",
        "colab": {
          "base_uri": "https://localhost:8080/"
        },
        "outputId": "258ae675-dd5a-4438-ba24-328a0e0809d3"
      },
      "execution_count": null,
      "outputs": [
        {
          "output_type": "stream",
          "name": "stdout",
          "text": [
            "A probabilidade de retirar uma bola vermelha é: 0.6\n",
            "A probabilidade de retirar uma bola azul é: 0.4\n"
          ]
        }
      ]
    },
    {
      "cell_type": "code",
      "source": [
        "#Exercício 15: Um dado justo de 6 faces é lançado.\n",
        "\"Qual é a probabilidade de obter um número par ou um número menor que 4?\"\n",
        "espaço_amostral = 6\n",
        "evento_par = 3\n",
        "evento_menor = 3\n",
        "\n",
        "probabilidade_par = evento_par / espaço_amostral\n",
        "print(\"A probabilidade de ser par é:\", probabilidade_par)\n",
        "\n",
        "probabilidade_quatro = evento_menor / espaço_amostral\n",
        "print(\"A probabilidade ser menor que 4 é:\", probabilidade_quatro)\n"
      ],
      "metadata": {
        "colab": {
          "base_uri": "https://localhost:8080/"
        },
        "id": "ZNpK8-yzset0",
        "outputId": "dc36dca5-f661-484b-f2e3-ad85f98d4587"
      },
      "execution_count": null,
      "outputs": [
        {
          "output_type": "stream",
          "name": "stdout",
          "text": [
            "A probabilidade de ser par é: 0.5\n",
            "A probabilidade ser menor que 4 é: 0.5\n"
          ]
        }
      ]
    },
    {
      "cell_type": "code",
      "source": [
        "#Exercício 16: Uma caixa contém 10 bilhetes numerados de 1 a 10.\n",
        "\"Qual é a probabilidade de retirar um bilhete que tenha um número menor que 4 ou um número maior que 7?\"\n",
        "espaco_amostral = 10\n",
        "evento_menor = 3\n",
        "evento_maior = 3\n",
        "\n",
        "probabilidade_menor = evento_menor / espaço_amostral\n",
        "print(\"A probabilidade de ser menor que 4 é:\", probabilidade_menor)\n",
        "\n",
        "probabilidade_maior = evento_maior / espaço_amostral\n",
        "print(\"A probabilidade de ser maior que 7 é:\", probabilidade_maior)"
      ],
      "metadata": {
        "colab": {
          "base_uri": "https://localhost:8080/"
        },
        "id": "o45pSqWhsg7R",
        "outputId": "4a784dce-aedf-4a0d-dbb9-cdd6b22e02c6"
      },
      "execution_count": null,
      "outputs": [
        {
          "output_type": "stream",
          "name": "stdout",
          "text": [
            "A probabilidade de ser menor que 4 é: 0.5\n",
            "A probabilidade de ser maior que 7 é: 0.5\n"
          ]
        }
      ]
    },
    {
      "cell_type": "code",
      "source": [
        "#Exercício 17: Você lança uma moeda justa e, em seguida, lança um dado justo.\n",
        "\"Qual é a probabilidade de obter cara na moeda e um número maior que 4 no dado?\"\n",
        "\n",
        "espaco_amostral_moeda = 2\n",
        "evento_cara = 1\n",
        "probabilidade_moeda = evento_cara / espaco_amostral_moeda\n",
        "print(\"A probabilidade de ser cara é:\" , probabilidade_moeda)\n",
        "\n",
        "espaco_amostral_dado = 6\n",
        "evento_maior = 2\n",
        "probabilidade_dado = evento_maior / espaco_amostral_dado\n",
        "print(\"A probabilidade de ser maior que 4 é:\",  probabilidade_dado)\n",
        "\n",
        "probabilidade_total = probabilidade_moeda * probabilidade_dado\n",
        "print(\"A probabilidade da moeda ser cara e o numero ser maior que 4 no dado é: \" , probabilidade_total)"
      ],
      "metadata": {
        "colab": {
          "base_uri": "https://localhost:8080/"
        },
        "id": "UL7K7aEUsj3K",
        "outputId": "a703bace-10ac-4676-ee57-a994cf66b396"
      },
      "execution_count": null,
      "outputs": [
        {
          "output_type": "stream",
          "name": "stdout",
          "text": [
            "A probabilidade de ser cara é: 0.5\n",
            "A probabilidade de ser maior que 4 é: 0.3333333333333333\n",
            "A probabilidade de a moeda ser cara e o numero ser maior que 4 no dado é:  0.16666666666666666\n"
          ]
        }
      ]
    },
    {
      "cell_type": "code",
      "source": [
        "#Exercício 18: Você escolhe uma peça de roupa aleatoriamente de um armário e, em seguida, escolhe uma peça de calçado aleatoriamente de um sapateiro.\n",
        "\"Se o armário tem 10 camisetas e o sapateiro tem 8 pares de sapato, qual é a probabilidade de escolher uma camiseta de cor azul e um par de sapatos pretos?\"\n",
        "espaco_amostral_camisetas = 10\n",
        "evento_camisa_azul = 1\n",
        "probabilidade_azul = evento_camisa_azul / espaco_amostral_camisetas\n",
        "print(\"A probabilidade de ser a blusa azul é: \" , probabilidade_azul)\n",
        "\n",
        "espaco_amostral_sapatos = 8\n",
        "evento_sapato = 1\n",
        "probabilidade_pretos = evento_sapato / espaco_amostral_sapatos\n",
        "print(\"A probabilidade de serem sapatos pretos é: \" , probabilidade_pretos)\n"
      ],
      "metadata": {
        "colab": {
          "base_uri": "https://localhost:8080/"
        },
        "id": "gB_G584wsmig",
        "outputId": "08f78b43-8d90-4023-ef2d-c58cfc26397d"
      },
      "execution_count": null,
      "outputs": [
        {
          "output_type": "stream",
          "name": "stdout",
          "text": [
            "A probabilidade de ser a blusa azul é:  0.1\n",
            "A probabilidade de serem sapatos pretos é:  0.125\n"
          ]
        }
      ]
    },
    {
      "cell_type": "code",
      "source": [
        "#Exercício 19: Você tem uma lista de 1000 números inteiros aleatórios entre 1 e 1000.\n",
        "\"Pegue uma amostra de 50 números dessa lista. Calcule a média e o desvio padrão da amostra.\"\n",
        "import random\n",
        "import math\n",
        "\n",
        "espaco_amostral = 1000\n",
        "tamanho_amostra = 50\n",
        "n = random.sample(range(espaco_amostral), tamanho_amostra)\n",
        "media = sum(n) // tamanho_amostra\n",
        "print(\"Média:\", media)\n",
        "\n",
        "soma_quadrados = sum((x - media) ** 2 for x in n)\n",
        "variancia_amostral = soma_quadrados / (tamanho_amostra - 1)\n",
        "\n",
        "desvio_padrao = math.sqrt(variancia_amostral)\n",
        "print(\"Desvio Padrão:\", desvio_padrao)\n"
      ],
      "metadata": {
        "colab": {
          "base_uri": "https://localhost:8080/"
        },
        "id": "wGKpt8cVspFu",
        "outputId": "d3768893-429d-4b3f-f895-85e54ccc077e"
      },
      "execution_count": null,
      "outputs": [
        {
          "output_type": "stream",
          "name": "stdout",
          "text": [
            "Média: 438\n",
            "Desvio Padrão: 292.0749135102856\n"
          ]
        }
      ]
    },
    {
      "cell_type": "code",
      "source": [
        "#Exercício 20: Considere uma população com 3 grupos (A, B, C) com tamanhos diferentes: A (100), B (200), C (300).\n",
        "\"Faça uma amostra estratificada onde você tira 10% de cada grupo.\"\n",
        "\n",
        "import random\n",
        "grupo_a = list(range(100)) #criando grupo\n",
        "grupo_b = list(range(200))\n",
        "grupo_c = list(range(300))\n",
        "\n",
        "tamanho_amostra_a = int(0.1 * 100) #tirando a porcentagem de cada grupo\n",
        "tamanho_amostra_b = int(0.1 * 200)\n",
        "tamanho_amostra_c = int(0.1 * 300)\n",
        "\n",
        "amostra_a = random.sample(grupo_a, tamanho_amostra_a)\n",
        "print(\"Aamostra A é:\" , amostra_a)\n",
        "\n",
        "amostra_b = random.sample(grupo_b, tamanho_amostra_b)\n",
        "print(\"Aamostra B é:\" , amostra_b)\n",
        "\n",
        "amostra_c = random.sample(grupo_c, tamanho_amostra_c)\n",
        "print(\"Aamostra C é:\" , amostra_c)\n",
        "\n"
      ],
      "metadata": {
        "id": "yH4KGW8JlH-X",
        "colab": {
          "base_uri": "https://localhost:8080/"
        },
        "outputId": "0318c70d-3949-4a3b-b582-35a35b2a7b2f"
      },
      "execution_count": 38,
      "outputs": [
        {
          "output_type": "stream",
          "name": "stdout",
          "text": [
            "Aamostra A é: [30, 33, 19, 14, 21, 11, 0, 86, 60, 79]\n",
            "Aamostra B é: [1, 20, 8, 12, 25, 35, 98, 30, 72, 102, 52, 0, 119, 166, 125, 99, 170, 105, 165, 148]\n",
            "Aamostra C é: [229, 13, 78, 40, 164, 48, 120, 156, 102, 258, 109, 129, 246, 4, 39, 81, 29, 268, 92, 97, 240, 133, 176, 114, 211, 9, 123, 220, 101, 18]\n"
          ]
        }
      ]
    }
  ]
}